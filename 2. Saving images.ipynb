{
 "cells": [
  {
   "cell_type": "code",
   "execution_count": 1,
   "id": "59fb2ec0",
   "metadata": {},
   "outputs": [],
   "source": [
    "# importing the libraries\n",
    "from skimage import io, img_as_ubyte\n",
    "import cv2\n",
    "import matplotlib.pyplot as plt"
   ]
  },
  {
   "cell_type": "code",
   "execution_count": 2,
   "id": "0b50cf20",
   "metadata": {},
   "outputs": [
    {
     "name": "stdout",
     "output_type": "stream",
     "text": [
      "[[[ 56  60   9]\n",
      "  [ 56  60   9]\n",
      "  [ 56  60   9]\n",
      "  ...\n",
      "  [140 147  77]\n",
      "  [140 147  77]\n",
      "  [140 147  77]]\n",
      "\n",
      " [[ 55  59   8]\n",
      "  [ 55  59   8]\n",
      "  [ 56  60   9]\n",
      "  ...\n",
      "  [140 147  77]\n",
      "  [140 147  77]\n",
      "  [140 147  77]]\n",
      "\n",
      " [[ 55  59   8]\n",
      "  [ 55  59   8]\n",
      "  [ 55  59   8]\n",
      "  ...\n",
      "  [139 146  76]\n",
      "  [139 146  76]\n",
      "  [139 146  76]]\n",
      "\n",
      " ...\n",
      "\n",
      " [[ 57  63  17]\n",
      "  [ 57  63  17]\n",
      "  [ 56  62  16]\n",
      "  ...\n",
      "  [231 201 175]\n",
      "  [229 199 171]\n",
      "  [228 198 170]]\n",
      "\n",
      " [[ 58  64  16]\n",
      "  [ 57  63  15]\n",
      "  [ 56  62  16]\n",
      "  ...\n",
      "  [228 201 174]\n",
      "  [230 200 174]\n",
      "  [230 200 174]]\n",
      "\n",
      " [[ 58  64  16]\n",
      "  [ 57  63  15]\n",
      "  [ 56  62  16]\n",
      "  ...\n",
      "  [227 200 173]\n",
      "  [230 200 174]\n",
      "  [231 201 175]]]\n"
     ]
    }
   ],
   "source": [
    "# reading an image\n",
    "img = io.imread('images/dog.jpg')\n",
    "print(img)"
   ]
  },
  {
   "cell_type": "code",
   "execution_count": 3,
   "id": "1bfcfcf1",
   "metadata": {},
   "outputs": [],
   "source": [
    "# using gaussian smoothening\n",
    "from skimage import filters"
   ]
  },
  {
   "cell_type": "code",
   "execution_count": 4,
   "id": "9a94cfe4",
   "metadata": {},
   "outputs": [
    {
     "name": "stderr",
     "output_type": "stream",
     "text": [
      "C:\\Users\\admin\\anaconda3\\lib\\site-packages\\skimage\\_shared\\utils.py:348: RuntimeWarning: Images with dimensions (M, N, 3) are interpreted as 2D+RGB by default. Use `multichannel=False` to interpret as 3D image with last dimension of length 3.\n",
      "  return func(*args, **kwargs)\n"
     ]
    }
   ],
   "source": [
    "gaussian_img = filters.gaussian(img, sigma=1)"
   ]
  },
  {
   "cell_type": "code",
   "execution_count": 5,
   "id": "e9452cd9",
   "metadata": {},
   "outputs": [
    {
     "name": "stdout",
     "output_type": "stream",
     "text": [
      "[[[0.21846644 0.23415271 0.03415324]\n",
      "  [0.21869644 0.23438272 0.03438324]\n",
      "  [0.2190883  0.23477458 0.0347751 ]\n",
      "  ...\n",
      "  [0.54973386 0.57718642 0.30267609]\n",
      "  [0.54896756 0.57641854 0.30190874]\n",
      "  [0.54880362 0.5762546  0.3017448 ]]\n",
      "\n",
      " [[0.21670836 0.23239464 0.03241254]\n",
      "  [0.21708724 0.23277351 0.03279142]\n",
      "  [0.21772204 0.23340831 0.03342622]\n",
      "  ...\n",
      "  [0.54859623 0.57604878 0.30153845]\n",
      "  [0.54797953 0.57543051 0.30092071]\n",
      "  [0.54785256 0.57530354 0.30079374]]\n",
      "\n",
      " [[0.21454382 0.23023167 0.03046078]\n",
      "  [0.21477383 0.23046168 0.03069079]\n",
      "  [0.21516571 0.23085356 0.03108267]\n",
      "  ...\n",
      "  [0.54709799 0.57455055 0.30004022]\n",
      "  [0.54647354 0.57392452 0.29941472]\n",
      "  [0.54631596 0.57376695 0.29925714]]\n",
      "\n",
      " ...\n",
      "\n",
      " [[0.22402417 0.24755358 0.06494242]\n",
      "  [0.22229099 0.2458204  0.06377984]\n",
      "  [0.21921106 0.24274115 0.06164194]\n",
      "  ...\n",
      "  [0.90224196 0.78750928 0.68263428]\n",
      "  [0.89732317 0.78077273 0.67447301]\n",
      "  [0.89402929 0.77658978 0.66936801]]\n",
      "\n",
      " [[0.22519427 0.24872368 0.06316672]\n",
      "  [0.22291448 0.24644389 0.0622144 ]\n",
      "  [0.21950315 0.24303345 0.06099253]\n",
      "  ...\n",
      "  [0.89886295 0.78717543 0.68249779]\n",
      "  [0.89930639 0.7841483  0.67969855]\n",
      "  [0.8999091  0.78274438 0.67840166]]\n",
      "\n",
      " [[0.22586359 0.24939301 0.06204936]\n",
      "  [0.22321197 0.24674138 0.06118442]\n",
      "  [0.21957532 0.24310575 0.0604941 ]\n",
      "  ...\n",
      "  [0.89570882 0.78584872 0.68115491]\n",
      "  [0.89964548 0.78533015 0.68193723]\n",
      "  [0.90288232 0.78588392 0.68327448]]]\n"
     ]
    }
   ],
   "source": [
    "print(gaussian_img)"
   ]
  },
  {
   "cell_type": "markdown",
   "id": "ac4df1a6",
   "metadata": {},
   "source": [
    "# saving image as jpeg"
   ]
  },
  {
   "cell_type": "code",
   "execution_count": 6,
   "id": "9e90375d",
   "metadata": {},
   "outputs": [
    {
     "name": "stderr",
     "output_type": "stream",
     "text": [
      "Lossy conversion from float64 to uint8. Range [0, 1]. Convert image to uint8 prior to saving to suppress this warning.\n"
     ]
    }
   ],
   "source": [
    "io.imsave('processed_images/dog.jpg', gaussian_img)"
   ]
  },
  {
   "cell_type": "markdown",
   "id": "e377c342",
   "metadata": {},
   "source": [
    "# saving image as 8bit"
   ]
  },
  {
   "cell_type": "code",
   "execution_count": 7,
   "id": "f77876c5",
   "metadata": {},
   "outputs": [],
   "source": [
    "gaussian_img_8bit = img_as_ubyte(gaussian_img)"
   ]
  },
  {
   "cell_type": "code",
   "execution_count": 8,
   "id": "38864c94",
   "metadata": {},
   "outputs": [],
   "source": [
    "io.imsave('processed_images/dog_8bit.jpg', gaussian_img_8bit)"
   ]
  },
  {
   "cell_type": "code",
   "execution_count": 9,
   "id": "9127e823",
   "metadata": {},
   "outputs": [
    {
     "data": {
      "text/plain": [
       "True"
      ]
     },
     "execution_count": 9,
     "metadata": {},
     "output_type": "execute_result"
    }
   ],
   "source": [
    "#saving image using opencv\n",
    "cv2.imwrite('processed_images/dog_opencv.jpg', gaussian_img)"
   ]
  },
  {
   "cell_type": "code",
   "execution_count": 10,
   "id": "e2eee37e",
   "metadata": {},
   "outputs": [
    {
     "data": {
      "text/plain": [
       "True"
      ]
     },
     "execution_count": 10,
     "metadata": {},
     "output_type": "execute_result"
    }
   ],
   "source": [
    "cv2.imwrite('processed_images/dog_opencv_int.jpg', gaussian_img_8bit)\n",
    "# image displays as a BGR channel"
   ]
  },
  {
   "cell_type": "code",
   "execution_count": 11,
   "id": "1a819996",
   "metadata": {},
   "outputs": [],
   "source": [
    "# converting the bgr channel to rgb channel\n",
    "gaussian_img_8bit_RGB = cv2.cvtColor(gaussian_img_8bit, cv2.COLOR_BGR2RGB)"
   ]
  },
  {
   "cell_type": "code",
   "execution_count": 12,
   "id": "1f049cd1",
   "metadata": {},
   "outputs": [
    {
     "data": {
      "text/plain": [
       "True"
      ]
     },
     "execution_count": 12,
     "metadata": {},
     "output_type": "execute_result"
    }
   ],
   "source": [
    "cv2.imwrite('processed_images/dog_opencv_int_RGB.jpg', gaussian_img_8bit_RGB)"
   ]
  },
  {
   "cell_type": "markdown",
   "id": "34395727",
   "metadata": {},
   "source": [
    "# saving using matplotlib"
   ]
  },
  {
   "cell_type": "code",
   "execution_count": 13,
   "id": "9343cc03",
   "metadata": {},
   "outputs": [],
   "source": [
    "plt.imsave('processed_images/dog_matplotlib.jpg', gaussian_img)"
   ]
  }
 ],
 "metadata": {
  "kernelspec": {
   "display_name": "Python 3 (ipykernel)",
   "language": "python",
   "name": "python3"
  },
  "language_info": {
   "codemirror_mode": {
    "name": "ipython",
    "version": 3
   },
   "file_extension": ".py",
   "mimetype": "text/x-python",
   "name": "python",
   "nbconvert_exporter": "python",
   "pygments_lexer": "ipython3",
   "version": "3.9.13"
  }
 },
 "nbformat": 4,
 "nbformat_minor": 5
}
