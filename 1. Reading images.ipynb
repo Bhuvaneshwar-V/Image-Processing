{
 "cells": [
  {
   "cell_type": "markdown",
   "id": "e25a320e",
   "metadata": {},
   "source": [
    "# Reading images using scikit-image"
   ]
  },
  {
   "cell_type": "code",
   "execution_count": 1,
   "id": "a7f9e2da",
   "metadata": {},
   "outputs": [],
   "source": [
    "# importing the libraries\n",
    "import numpy as np\n",
    "from skimage import io, img_as_float, img_as_ubyte"
   ]
  },
  {
   "cell_type": "code",
   "execution_count": 2,
   "id": "fc88f3d2",
   "metadata": {},
   "outputs": [
    {
     "name": "stdout",
     "output_type": "stream",
     "text": [
      "[[[ 56  60   9]\n",
      "  [ 56  60   9]\n",
      "  [ 56  60   9]\n",
      "  ...\n",
      "  [140 147  77]\n",
      "  [140 147  77]\n",
      "  [140 147  77]]\n",
      "\n",
      " [[ 55  59   8]\n",
      "  [ 55  59   8]\n",
      "  [ 56  60   9]\n",
      "  ...\n",
      "  [140 147  77]\n",
      "  [140 147  77]\n",
      "  [140 147  77]]\n",
      "\n",
      " [[ 55  59   8]\n",
      "  [ 55  59   8]\n",
      "  [ 55  59   8]\n",
      "  ...\n",
      "  [139 146  76]\n",
      "  [139 146  76]\n",
      "  [139 146  76]]\n",
      "\n",
      " ...\n",
      "\n",
      " [[ 57  63  17]\n",
      "  [ 57  63  17]\n",
      "  [ 56  62  16]\n",
      "  ...\n",
      "  [231 201 175]\n",
      "  [229 199 171]\n",
      "  [228 198 170]]\n",
      "\n",
      " [[ 58  64  16]\n",
      "  [ 57  63  15]\n",
      "  [ 56  62  16]\n",
      "  ...\n",
      "  [228 201 174]\n",
      "  [230 200 174]\n",
      "  [230 200 174]]\n",
      "\n",
      " [[ 58  64  16]\n",
      "  [ 57  63  15]\n",
      "  [ 56  62  16]\n",
      "  ...\n",
      "  [227 200 173]\n",
      "  [230 200 174]\n",
      "  [231 201 175]]]\n"
     ]
    }
   ],
   "source": [
    "# reading an image\n",
    "img = io.imread('images/dog.jpg')\n",
    "print(img) "
   ]
  },
  {
   "cell_type": "code",
   "execution_count": 3,
   "id": "4476a480",
   "metadata": {},
   "outputs": [
    {
     "name": "stdout",
     "output_type": "stream",
     "text": [
      "(480, 640, 3)\n"
     ]
    }
   ],
   "source": [
    "# shape of the images\n",
    "print(img.shape) # (Y, X, C)"
   ]
  },
  {
   "cell_type": "code",
   "execution_count": 4,
   "id": "374d6bb3",
   "metadata": {},
   "outputs": [
    {
     "name": "stdout",
     "output_type": "stream",
     "text": [
      "[[[0.21960784 0.23529412 0.03529412]\n",
      "  [0.21960784 0.23529412 0.03529412]\n",
      "  [0.21960784 0.23529412 0.03529412]\n",
      "  ...\n",
      "  [0.54901961 0.57647059 0.30196078]\n",
      "  [0.54901961 0.57647059 0.30196078]\n",
      "  [0.54901961 0.57647059 0.30196078]]\n",
      "\n",
      " [[0.21568627 0.23137255 0.03137255]\n",
      "  [0.21568627 0.23137255 0.03137255]\n",
      "  [0.21960784 0.23529412 0.03529412]\n",
      "  ...\n",
      "  [0.54901961 0.57647059 0.30196078]\n",
      "  [0.54901961 0.57647059 0.30196078]\n",
      "  [0.54901961 0.57647059 0.30196078]]\n",
      "\n",
      " [[0.21568627 0.23137255 0.03137255]\n",
      "  [0.21568627 0.23137255 0.03137255]\n",
      "  [0.21568627 0.23137255 0.03137255]\n",
      "  ...\n",
      "  [0.54509804 0.57254902 0.29803922]\n",
      "  [0.54509804 0.57254902 0.29803922]\n",
      "  [0.54509804 0.57254902 0.29803922]]\n",
      "\n",
      " ...\n",
      "\n",
      " [[0.22352941 0.24705882 0.06666667]\n",
      "  [0.22352941 0.24705882 0.06666667]\n",
      "  [0.21960784 0.24313725 0.0627451 ]\n",
      "  ...\n",
      "  [0.90588235 0.78823529 0.68627451]\n",
      "  [0.89803922 0.78039216 0.67058824]\n",
      "  [0.89411765 0.77647059 0.66666667]]\n",
      "\n",
      " [[0.22745098 0.25098039 0.0627451 ]\n",
      "  [0.22352941 0.24705882 0.05882353]\n",
      "  [0.21960784 0.24313725 0.0627451 ]\n",
      "  ...\n",
      "  [0.89411765 0.78823529 0.68235294]\n",
      "  [0.90196078 0.78431373 0.68235294]\n",
      "  [0.90196078 0.78431373 0.68235294]]\n",
      "\n",
      " [[0.22745098 0.25098039 0.0627451 ]\n",
      "  [0.22352941 0.24705882 0.05882353]\n",
      "  [0.21960784 0.24313725 0.0627451 ]\n",
      "  ...\n",
      "  [0.89019608 0.78431373 0.67843137]\n",
      "  [0.90196078 0.78431373 0.68235294]\n",
      "  [0.90588235 0.78823529 0.68627451]]]\n"
     ]
    }
   ],
   "source": [
    "# converting into float -> better to convert one type to other type\n",
    "img2 = img_as_float(img)\n",
    "print(img2)"
   ]
  },
  {
   "cell_type": "code",
   "execution_count": 5,
   "id": "fb9b0ceb",
   "metadata": {},
   "outputs": [
    {
     "name": "stdout",
     "output_type": "stream",
     "text": [
      "[[[ 56.  60.   9.]\n",
      "  [ 56.  60.   9.]\n",
      "  [ 56.  60.   9.]\n",
      "  ...\n",
      "  [140. 147.  77.]\n",
      "  [140. 147.  77.]\n",
      "  [140. 147.  77.]]\n",
      "\n",
      " [[ 55.  59.   8.]\n",
      "  [ 55.  59.   8.]\n",
      "  [ 56.  60.   9.]\n",
      "  ...\n",
      "  [140. 147.  77.]\n",
      "  [140. 147.  77.]\n",
      "  [140. 147.  77.]]\n",
      "\n",
      " [[ 55.  59.   8.]\n",
      "  [ 55.  59.   8.]\n",
      "  [ 55.  59.   8.]\n",
      "  ...\n",
      "  [139. 146.  76.]\n",
      "  [139. 146.  76.]\n",
      "  [139. 146.  76.]]\n",
      "\n",
      " ...\n",
      "\n",
      " [[ 57.  63.  17.]\n",
      "  [ 57.  63.  17.]\n",
      "  [ 56.  62.  16.]\n",
      "  ...\n",
      "  [231. 201. 175.]\n",
      "  [229. 199. 171.]\n",
      "  [228. 198. 170.]]\n",
      "\n",
      " [[ 58.  64.  16.]\n",
      "  [ 57.  63.  15.]\n",
      "  [ 56.  62.  16.]\n",
      "  ...\n",
      "  [228. 201. 174.]\n",
      "  [230. 200. 174.]\n",
      "  [230. 200. 174.]]\n",
      "\n",
      " [[ 58.  64.  16.]\n",
      "  [ 57.  63.  15.]\n",
      "  [ 56.  62.  16.]\n",
      "  ...\n",
      "  [227. 200. 173.]\n",
      "  [230. 200. 174.]\n",
      "  [231. 201. 175.]]]\n"
     ]
    },
    {
     "name": "stderr",
     "output_type": "stream",
     "text": [
      "C:\\Users\\admin\\AppData\\Local\\Temp\\ipykernel_2752\\4277330571.py:2: DeprecationWarning: `np.float` is a deprecated alias for the builtin `float`. To silence this warning, use `float` by itself. Doing this will not modify any behavior and is safe. If you specifically wanted the numpy scalar type, use `np.float64` here.\n",
      "Deprecated in NumPy 1.20; for more details and guidance: https://numpy.org/devdocs/release/1.20.0-notes.html#deprecations\n",
      "  img3 = img.astype(np.float)\n"
     ]
    }
   ],
   "source": [
    "# another method converting into float using astype()\n",
    "img3 = img.astype(np.float)\n",
    "print(img3)"
   ]
  },
  {
   "cell_type": "code",
   "execution_count": 6,
   "id": "903df501",
   "metadata": {},
   "outputs": [
    {
     "name": "stdout",
     "output_type": "stream",
     "text": [
      "[[[ 56  60   9]\n",
      "  [ 56  60   9]\n",
      "  [ 56  60   9]\n",
      "  ...\n",
      "  [140 147  77]\n",
      "  [140 147  77]\n",
      "  [140 147  77]]\n",
      "\n",
      " [[ 55  59   8]\n",
      "  [ 55  59   8]\n",
      "  [ 56  60   9]\n",
      "  ...\n",
      "  [140 147  77]\n",
      "  [140 147  77]\n",
      "  [140 147  77]]\n",
      "\n",
      " [[ 55  59   8]\n",
      "  [ 55  59   8]\n",
      "  [ 55  59   8]\n",
      "  ...\n",
      "  [139 146  76]\n",
      "  [139 146  76]\n",
      "  [139 146  76]]\n",
      "\n",
      " ...\n",
      "\n",
      " [[ 57  63  17]\n",
      "  [ 57  63  17]\n",
      "  [ 56  62  16]\n",
      "  ...\n",
      "  [231 201 175]\n",
      "  [229 199 171]\n",
      "  [228 198 170]]\n",
      "\n",
      " [[ 58  64  16]\n",
      "  [ 57  63  15]\n",
      "  [ 56  62  16]\n",
      "  ...\n",
      "  [228 201 174]\n",
      "  [230 200 174]\n",
      "  [230 200 174]]\n",
      "\n",
      " [[ 58  64  16]\n",
      "  [ 57  63  15]\n",
      "  [ 56  62  16]\n",
      "  ...\n",
      "  [227 200 173]\n",
      "  [230 200 174]\n",
      "  [231 201 175]]]\n"
     ]
    }
   ],
   "source": [
    "# converting back the float datatype to 8 bit integer data\n",
    "img8bit = img_as_ubyte(img2)\n",
    "print(img8bit)"
   ]
  },
  {
   "cell_type": "markdown",
   "id": "73258c4a",
   "metadata": {},
   "source": [
    "# Reading images using OpenCV"
   ]
  },
  {
   "cell_type": "code",
   "execution_count": 7,
   "id": "4c3e3b53",
   "metadata": {},
   "outputs": [],
   "source": [
    "import cv2"
   ]
  },
  {
   "cell_type": "code",
   "execution_count": 8,
   "id": "871aabf1",
   "metadata": {},
   "outputs": [],
   "source": [
    "# opencv reads image as BGR instead of RGB"
   ]
  },
  {
   "cell_type": "code",
   "execution_count": 9,
   "id": "0e01d32d",
   "metadata": {},
   "outputs": [
    {
     "name": "stdout",
     "output_type": "stream",
     "text": [
      "[[[  9  60  56]\n",
      "  [  9  60  56]\n",
      "  [  9  60  56]\n",
      "  ...\n",
      "  [ 77 147 140]\n",
      "  [ 77 147 140]\n",
      "  [ 77 147 140]]\n",
      "\n",
      " [[  8  59  55]\n",
      "  [  8  59  55]\n",
      "  [  9  60  56]\n",
      "  ...\n",
      "  [ 77 147 140]\n",
      "  [ 77 147 140]\n",
      "  [ 77 147 140]]\n",
      "\n",
      " [[  8  59  55]\n",
      "  [  8  59  55]\n",
      "  [  8  59  55]\n",
      "  ...\n",
      "  [ 76 146 139]\n",
      "  [ 76 146 139]\n",
      "  [ 76 146 139]]\n",
      "\n",
      " ...\n",
      "\n",
      " [[ 17  63  57]\n",
      "  [ 17  63  57]\n",
      "  [ 16  62  56]\n",
      "  ...\n",
      "  [175 201 231]\n",
      "  [171 199 229]\n",
      "  [170 198 228]]\n",
      "\n",
      " [[ 16  64  58]\n",
      "  [ 15  63  57]\n",
      "  [ 16  62  56]\n",
      "  ...\n",
      "  [174 201 228]\n",
      "  [174 200 230]\n",
      "  [174 200 230]]\n",
      "\n",
      " [[ 16  64  58]\n",
      "  [ 15  63  57]\n",
      "  [ 16  62  56]\n",
      "  ...\n",
      "  [173 200 227]\n",
      "  [174 200 230]\n",
      "  [175 201 231]]]\n"
     ]
    }
   ],
   "source": [
    "# reading an image\n",
    "img_cv2 = cv2.imread('images/dog.jpg')\n",
    "print(img_cv2)"
   ]
  },
  {
   "cell_type": "code",
   "execution_count": 10,
   "id": "010a809e",
   "metadata": {},
   "outputs": [
    {
     "name": "stdout",
     "output_type": "stream",
     "text": [
      "[[ 53  53  53 ... 137 137 137]\n",
      " [ 52  52  53 ... 137 137 137]\n",
      " [ 52  52  52 ... 136 136 136]\n",
      " ...\n",
      " [ 56  56  55 ... 207 205 204]\n",
      " [ 57  56  55 ... 206 206 206]\n",
      " [ 57  56  55 ... 205 206 207]]\n"
     ]
    }
   ],
   "source": [
    "# coverting the BGR image to gray image\n",
    "gray_image = cv2.imread('images/dog.jpg', 0)\n",
    "print(gray_image)"
   ]
  },
  {
   "cell_type": "code",
   "execution_count": 11,
   "id": "aae60a15",
   "metadata": {},
   "outputs": [
    {
     "name": "stdout",
     "output_type": "stream",
     "text": [
      "[[[  9  60  56]\n",
      "  [  9  60  56]\n",
      "  [  9  60  56]\n",
      "  ...\n",
      "  [ 77 147 140]\n",
      "  [ 77 147 140]\n",
      "  [ 77 147 140]]\n",
      "\n",
      " [[  8  59  55]\n",
      "  [  8  59  55]\n",
      "  [  9  60  56]\n",
      "  ...\n",
      "  [ 77 147 140]\n",
      "  [ 77 147 140]\n",
      "  [ 77 147 140]]\n",
      "\n",
      " [[  8  59  55]\n",
      "  [  8  59  55]\n",
      "  [  8  59  55]\n",
      "  ...\n",
      "  [ 76 146 139]\n",
      "  [ 76 146 139]\n",
      "  [ 76 146 139]]\n",
      "\n",
      " ...\n",
      "\n",
      " [[ 17  63  57]\n",
      "  [ 17  63  57]\n",
      "  [ 16  62  56]\n",
      "  ...\n",
      "  [175 201 231]\n",
      "  [171 199 229]\n",
      "  [170 198 228]]\n",
      "\n",
      " [[ 16  64  58]\n",
      "  [ 15  63  57]\n",
      "  [ 16  62  56]\n",
      "  ...\n",
      "  [174 201 228]\n",
      "  [174 200 230]\n",
      "  [174 200 230]]\n",
      "\n",
      " [[ 16  64  58]\n",
      "  [ 15  63  57]\n",
      "  [ 16  62  56]\n",
      "  ...\n",
      "  [173 200 227]\n",
      "  [174 200 230]\n",
      "  [175 201 231]]]\n"
     ]
    }
   ],
   "source": [
    "# reading as a BGR image\n",
    "color_image = cv2.imread('images/dog.jpg', 1)\n",
    "print(color_image)"
   ]
  },
  {
   "cell_type": "code",
   "execution_count": 12,
   "id": "0bd5f1b4",
   "metadata": {},
   "outputs": [
    {
     "name": "stdout",
     "output_type": "stream",
     "text": [
      "[[[ 56  60   9]\n",
      "  [ 56  60   9]\n",
      "  [ 56  60   9]\n",
      "  ...\n",
      "  [140 147  77]\n",
      "  [140 147  77]\n",
      "  [140 147  77]]\n",
      "\n",
      " [[ 55  59   8]\n",
      "  [ 55  59   8]\n",
      "  [ 56  60   9]\n",
      "  ...\n",
      "  [140 147  77]\n",
      "  [140 147  77]\n",
      "  [140 147  77]]\n",
      "\n",
      " [[ 55  59   8]\n",
      "  [ 55  59   8]\n",
      "  [ 55  59   8]\n",
      "  ...\n",
      "  [139 146  76]\n",
      "  [139 146  76]\n",
      "  [139 146  76]]\n",
      "\n",
      " ...\n",
      "\n",
      " [[ 57  63  17]\n",
      "  [ 57  63  17]\n",
      "  [ 56  62  16]\n",
      "  ...\n",
      "  [231 201 175]\n",
      "  [229 199 171]\n",
      "  [228 198 170]]\n",
      "\n",
      " [[ 58  64  16]\n",
      "  [ 57  63  15]\n",
      "  [ 56  62  16]\n",
      "  ...\n",
      "  [228 201 174]\n",
      "  [230 200 174]\n",
      "  [230 200 174]]\n",
      "\n",
      " [[ 58  64  16]\n",
      "  [ 57  63  15]\n",
      "  [ 56  62  16]\n",
      "  ...\n",
      "  [227 200 173]\n",
      "  [230 200 174]\n",
      "  [231 201 175]]]\n"
     ]
    }
   ],
   "source": [
    "# converting the BGR channel to RGB channel\n",
    "img_opencv = cv2.cvtColor(img_cv2, cv2.COLOR_BGR2RGB)\n",
    "print(img_opencv)"
   ]
  }
 ],
 "metadata": {
  "kernelspec": {
   "display_name": "Python 3 (ipykernel)",
   "language": "python",
   "name": "python3"
  },
  "language_info": {
   "codemirror_mode": {
    "name": "ipython",
    "version": 3
   },
   "file_extension": ".py",
   "mimetype": "text/x-python",
   "name": "python",
   "nbconvert_exporter": "python",
   "pygments_lexer": "ipython3",
   "version": "3.9.13"
  }
 },
 "nbformat": 4,
 "nbformat_minor": 5
}
